{
 "cells": [
  {
   "attachments": {},
   "cell_type": "markdown",
   "metadata": {},
   "source": [
    "# Handwriten Recognition System\n",
    "---\n",
    "\n",
    "The [MNIST dataset](http://yann.lecun.com/exdb/mnist/), a collection of handwritten digit images, has been widely used as a benchmark for image classification tasks in the field of machine learning. \n",
    "In this notebook, we will explore the process of training a Multi-Layer Perceptron (MLP), a type of neural network, to classify the images contained in the MNIST database.\n",
    "\n",
    "We will break down the process into four key steps:\n",
    "\n",
    "The process will be broken down into the following steps:\n",
    ">1. Load and visualize the data to get a better understanding of the distribution and characteristics of the images.\n",
    "2. Define a neural network architecture that can accurately classify the images.\n",
    "3. Train the model by updating its parameters based on the training data.\n",
    "4. Evaluate the performance of the trained model on a separate test dataset to measure its accuracy and identify any areas for improvement.\n",
    "\n",
    "Before we start, we will import the necessary libraries for working with data and PyTorch, as well as a few additional libraries for convenience. With these tools in hand, we are ready to dive into the exciting task of building and training our very own MNIST classifier!"
   ]
  },
  {
   "cell_type": "code",
   "execution_count": 1,
   "metadata": {},
   "outputs": [],
   "source": [
    "## This cell contains the essential imports you will need – DO NOT CHANGE THE CONTENTS! ##\n",
    "import torch\n",
    "import torch.nn as nn\n",
    "import torch.nn.functional as F\n",
    "import torch.optim as optim\n",
    "import torchvision\n",
    "import torchvision.transforms as transforms\n",
    "import matplotlib.pyplot as plt\n",
    "import numpy as np"
   ]
  },
  {
   "attachments": {},
   "cell_type": "markdown",
   "metadata": {},
   "source": [
    "## Load the Dataset\n",
    "\n",
    "In this section, we will load the `MNIST dataset` and specify the transforms we want to apply to it. \n",
    "\n",
    "Once we have created the dataset, we will define a DataLoader for both the train and the test set. \n",
    "By using a DataLoader, we can shuffle the data, set the batch size, and apply any other necessary transformations in an organized and efficient manner.\""
   ]
  },
  {
   "cell_type": "code",
   "execution_count": 4,
   "metadata": {},
   "outputs": [
    {
     "name": "stdout",
     "output_type": "stream",
     "text": [
      "Using 48000 examples for training and 12000 for validation\n",
      "Using 10000 for testing\n"
     ]
    }
   ],
   "source": [
    "def create_datasets(batch_size): \n",
    "   \n",
    "    # Define the data transformations that will be applied to the images\n",
    "    transform = transforms.Compose([\n",
    "        # This transforms takes a np.array or a PIL image of integers\n",
    "        # in the range 0-255 and transforms it to a float tensor in the\n",
    "        # range 0.0 - 1.0\n",
    "        transforms.ToTensor(),\n",
    "        # This then renormalize the tensor to be between -1.0 and 1.0,\n",
    "        # which is a better range for modern activation functions like\n",
    "        # Relu \n",
    "        transforms.Normalize((0.1307,), (0.3081,))\n",
    "    ])\n",
    "\n",
    "    \n",
    "    # Load the MNIST train and validation dataset\n",
    "    trainval_data = torchvision.datasets.MNIST(\n",
    "        root=\"data\", train=True, download=True, transform=transform\n",
    "    )\n",
    "\n",
    "    # Split in train and validation\n",
    "    train_len = int(len(trainval_data) * 0.8)\n",
    "    val_len = len(trainval_data) - train_len\n",
    "    train_subset, val_subset = torch.utils.data.random_split(\n",
    "        trainval_data, [train_len, val_len], generator=torch.Generator().manual_seed(42)\n",
    "    )\n",
    "\n",
    "    train_loader = torch.utils.data.DataLoader( dataset=train_subset, shuffle=True, batch_size=batch_size)\n",
    "    val_loader = torch.utils.data.DataLoader(dataset=val_subset, batch_size=batch_size)\n",
    "    print(f\"Using {train_len} examples for training and {val_len} for validation\")\n",
    "    \n",
    "    # Load the MNIST test dataset\n",
    "    test_subset = torchvision.datasets.MNIST(root=\"data\", train=False, download=True, transform=transform)\n",
    "    \n",
    "    test_loader = torch.utils.data.DataLoader(test_subset, batch_size=batch_size)\n",
    "    print(f\"Using {len(test_subset)} for testing\")\n",
    "\n",
    "    return train_loader, val_loader, test_loader\n",
    "\n",
    "# Set the batch size for the dataloaders\n",
    "batch_size = 250\n",
    "\n",
    "# Create the train and test dataloaders\n",
    "train_loader, val_loader, test_loader = create_datasets(batch_size)\n"
   ]
  },
  {
   "attachments": {},
   "cell_type": "markdown",
   "metadata": {},
   "source": [
    "## Explore the Dataset"
   ]
  },
  {
   "cell_type": "code",
   "execution_count": 7,
   "metadata": {},
   "outputs": [
    {
     "data": {
      "image/png": "[encoded data removed]",
      "text/plain": [
       "<Figure size 2500x400 with 20 Axes>"
      ]
     },
     "metadata": {},
     "output_type": "display_data"
    }
   ],
   "source": [
    "# obtain one batch of training images\n",
    "dataiter = iter(train_loader)\n",
    "images, labels = dataiter.next()\n",
    "images = images.numpy()\n",
    "\n",
    "# plot the images in the batch, along with the corresponding labels\n",
    "fig, subs = plt.subplots(2, 10, figsize=(25, 4))\n",
    "for idx, sub in zip(np.arange(20), subs.flatten()):\n",
    "    sub.imshow(np.squeeze(images[idx]), cmap='gray')\n",
    "    # print out the correct label for each image\n",
    "    # .item() gets the value contained in a Tensor\n",
    "    sub.set_title(str(labels[idx].item()))\n",
    "    sub.axis(\"off\")"
   ]
  }
 ],
 "metadata": {
  "kernelspec": {
   "display_name": "handwriten",
   "language": "python",
   "name": "python3"
  },
  "language_info": {
   "codemirror_mode": {
    "name": "ipython",
    "version": 3
   },
   "file_extension": ".py",
   "mimetype": "text/x-python",
   "name": "python",
   "nbconvert_exporter": "python",
   "pygments_lexer": "ipython3",
   "version": "3.8.0"
  },
  "vscode": {
   "interpreter": {
    "hash": "6c8d94dd59077e76f30a15c130f19c5b82ecc20534fa07bd2c9a61694f882e1b"
   }
  }
 },
 "nbformat": 4,
 "nbformat_minor": 4
}
